{
 "cells": [
  {
   "cell_type": "markdown",
   "id": "992a1ef4",
   "metadata": {},
   "source": [
    "DATA: 542 2022_cohort Q148 \n",
    "WELLNESS_life_satisfaction On a scale of 1 to 10, How do you feel about your life as a whole right now? "
   ]
  },
  {
   "cell_type": "markdown",
   "id": "efc24df4",
   "metadata": {},
   "source": [
    "Analysis 1: Cohort-Based Life Satisfaction"
   ]
  },
  {
   "cell_type": "markdown",
   "id": "fb88c0b0",
   "metadata": {},
   "source": [
    "1)Research Question: Does life satisfaction vary significantly across different student cohorts?\n",
    "\n",
    "2)Variables:\n",
    "  -Life Satisfaction(`Q148_WELLNESS_life_satisfaction`): Self-reported life satisfaction score on a scale from 1 to 10.\n",
    "  - Student Cohort (`2022_cohort`): Indicator variable for cohort year.\n",
    "\n",
    "3)Exploration Plan:\n",
    "  -Visualization: I’ll use box plots to display the distribution of life satisfaction scores for each cohort. This visualization will help in identifying differences in the central tendency and spread of life satisfaction scores among cohorts.\n",
    "\n",
    "4)Analysis Plan:\n",
    "  -Statistical Test: Perform a one-way ANOVA test to examine if there is a statistically significant difference in life satisfaction scores across the cohorts. Assumptions for ANOVA, such as normal distribution of scores within each cohort and homogeneity of variance, will be checked.\n",
    "\n",
    "5)Hypothesis and Expected Relevance:\n",
    "  -Hypothesis: Cohort-specific factors such as academic pressure or lifestyle changes may result in differences in life satisfaction, with newer cohorts potentially experiencing lower satisfaction due to adjustment challenges.\n",
    "  -Relevance: If a significant difference is found, this could guide targeted wellness interventions for specific cohorts, making programs more tailored to student needs.\n"
   ]
  },
  {
   "cell_type": "markdown",
   "id": "200ae92e",
   "metadata": {},
   "source": [
    "Analysis 2: Age and Life Satisfaction Relationship"
   ]
  },
  {
   "cell_type": "markdown",
   "id": "7bef119d",
   "metadata": {},
   "source": [
    "1)Research Question: Is there a correlation between age and life satisfaction?\n",
    "\n",
    "2)Variables:\n",
    "  -Life Satisfaction (`Q148_WELLNESS_life_satisfaction`): Self-reported satisfaction score.\n",
    "  -Age (`age`): Numerical variable representing the age of each participant (assumed to be present or derivable from the dataset).\n",
    "  \n",
    "3)Exploration Plan:\n",
    "  -Visualization: Use a scatter plot with a linear regression line to display the trend between age and life satisfaction scores. This will illustrate if there’s a positive, negative, or neutral relationship.\n",
    "  \n",
    "4)Analysis Plan:\n",
    "  -Statistical Test: Conduct a simple linear regression to determine if age significantly predicts life satisfaction. Key assumptions (linearity, independence, and normality of residuals) will be checked to validate the model.\n",
    "  \n",
    "5)Hypothesis and Expected Relevance:\n",
    "  -Hypothesis: Older students may report higher life satisfaction due to increased resilience or stability, or they may report lower satisfaction due to external stressors.\n",
    "  -Relevance: Insights into the relationship between age and satisfaction can help frame age-specific mental health and wellness programs, promoting student satisfaction across age groups."
   ]
  },
  {
   "cell_type": "markdown",
   "id": "16d1dd13",
   "metadata": {},
   "source": [
    "Analysis 3: Effect of Wellness Program Participation on Life Satisfaction"
   ]
  },
  {
   "cell_type": "markdown",
   "id": "679f98f6",
   "metadata": {},
   "source": [
    "1)Research Question: Does participation in wellness programs have an impact on life satisfaction?\n",
    "\n",
    "2)Variables:\n",
    "  -Life Satisfaction (`Q148_WELLNESS_life_satisfaction`): Self-reported satisfaction score.\n",
    "  -Wellness Program Participation (Binary Variable): Indicates whether a student participates in a wellness program (binary variable to be created if necessary).\n",
    "  \n",
    "3)Exploration Plan:\n",
    "  -Visualization: I will use a bar chart or box plot to compare life satisfaction scores between participants and non-participants. This will visually show any potential differences between the two groups.\n",
    "  \n",
    "4)Analysis Plan:\n",
    "  -Statistical Test: Perform an independent samples t-test to compare life satisfaction between participants and non-participants, assuming normality within each group.\n",
    "  \n",
    "5)Hypothesis and Expected Relevance:\n",
    "  -Hypothesis: Students participating in wellness programs may report higher life satisfaction, as these programs could provide support and enhance well-being.\n",
    "  -Relevance: Validating this hypothesis could justify increased funding or expansion for wellness programs, as evidence-based data would support their positive impact on life satisfaction."
   ]
  },
  {
   "cell_type": "markdown",
   "id": "528b9f9b",
   "metadata": {},
   "source": [
    "Summary"
   ]
  },
  {
   "cell_type": "markdown",
   "id": "a3a92f3c",
   "metadata": {},
   "source": [
    "1. Cohort-Based Differences: Evaluating how life satisfaction varies across cohorts.\n",
    "2. Age Correlation: Investigating if life satisfaction changes with age.\n",
    "3. Program Participation Effect: Analyzing the impact of wellness program participation on life satisfaction."
   ]
  }
 ],
 "metadata": {
  "kernelspec": {
   "display_name": "Python 3 (ipykernel)",
   "language": "python",
   "name": "python3"
  },
  "language_info": {
   "codemirror_mode": {
    "name": "ipython",
    "version": 3
   },
   "file_extension": ".py",
   "mimetype": "text/x-python",
   "name": "python",
   "nbconvert_exporter": "python",
   "pygments_lexer": "ipython3",
   "version": "3.11.6"
  }
 },
 "nbformat": 4,
 "nbformat_minor": 5
}
